{
 "cells": [
  {
   "cell_type": "code",
   "execution_count": 2,
   "metadata": {
    "collapsed": false
   },
   "outputs": [],
   "source": [
    "import csv\n",
    "import pandas as pd\n",
    "import seaborn as sns\n",
    "\n",
    "df = pd.read_csv('spell_clean.csv')"
   ]
  },
  {
   "cell_type": "code",
   "execution_count": 3,
   "metadata": {
    "collapsed": false
   },
   "outputs": [],
   "source": [
    "good_val = 'GOOD'\n",
    "bad_val = 'BAD'\n",
    "unknown_val = 'UNKNOWN'\n",
    "exit_mapping = {\n",
    "    'XRF':good_val, 'XLC':good_val, 'XRL':good_val, 'XCA':good_val,\n",
    "    'XOT':bad_val, 'XOP':bad_val, 'XRM':bad_val, 'XRY':bad_val, 'XJP':bad_val,\n",
    "    'ZTC':unknown_val, 'XUK':unknown_val\n",
    "}\n",
    "outcomes = [exit_mapping[x] for x in df.EXIT if x in exit_mapping]\n",
    "sns.countplot(outcomes)\n",
    "df['outcome'] = outcomes"
   ]
  },
  {
   "cell_type": "code",
   "execution_count": 4,
   "metadata": {
    "collapsed": false
   },
   "outputs": [],
   "source": [
    "hispanic_dummies = pd.get_dummies(df.HISPANIC)"
   ]
  },
  {
   "cell_type": "code",
   "execution_count": 5,
   "metadata": {
    "collapsed": false
   },
   "outputs": [],
   "source": [
    "df = pd.concat([df,hispanic_dummies], axis = 1)"
   ]
  },
  {
   "cell_type": "code",
   "execution_count": 6,
   "metadata": {
    "collapsed": false
   },
   "outputs": [],
   "source": [
    "X = df[['STARTAGE', 'SPELLAGE', 'N', 'U', 'Y', 'NPLACES', 'EXITAGE']]"
   ]
  },
  {
   "cell_type": "code",
   "execution_count": 7,
   "metadata": {
    "collapsed": true
   },
   "outputs": [],
   "source": [
    "y = df.outcome"
   ]
  },
  {
   "cell_type": "code",
   "execution_count": 13,
   "metadata": {
    "collapsed": false
   },
   "outputs": [],
   "source": [
    "from sklearn.cross_validation import cross_val_score\n",
    "from sklearn.cross_validation import train_test_split\n",
    "X_train, X_test, y_train, y_test = train_test_split(X, y)"
   ]
  },
  {
   "cell_type": "code",
   "execution_count": 14,
   "metadata": {
    "collapsed": true
   },
   "outputs": [],
   "source": [
    "def run_model(model):\n",
    "    model.fit(X_train, y_train)\n",
    "    y_pred = model.predict(X_test)\n",
    "    print 'Accuracy', accuracy_score(y_test, y_pred)\n",
    "    print 'Cross Val Score', cross_val_score(model, X, y)\n",
    "    print 'Confusion Matrix','\\n',  confusion_matrix(y_test, y_pred)\n",
    "    print 'Classification Report','\\n', classification_report(y_test, y_pred)"
   ]
  },
  {
   "cell_type": "code",
   "execution_count": 15,
   "metadata": {
    "collapsed": false
   },
   "outputs": [
    {
     "name": "stdout",
     "output_type": "stream",
     "text": [
      "Accuracy 0.713215442765\n",
      "Cross Val Score [ 0.70392306  0.66828651  0.72956007]\n",
      "Confusion Matrix \n",
      "[[2653 2194   38]\n",
      " [1424 7904   43]\n",
      " [ 167  383   10]]\n",
      "Classification Report \n",
      "             precision    recall  f1-score   support\n",
      "\n",
      "        BAD       0.63      0.54      0.58      4885\n",
      "       GOOD       0.75      0.84      0.80      9371\n",
      "    UNKNOWN       0.11      0.02      0.03       560\n",
      "\n",
      "avg / total       0.69      0.71      0.70     14816\n",
      "\n"
     ]
    }
   ],
   "source": [
    "from sklearn.ensemble import RandomForestClassifier\n",
    "from sklearn.metrics import accuracy_score, confusion_matrix, classification_report\n",
    "\n",
    "rf = RandomForestClassifier()\n",
    "run_model(rf)"
   ]
  },
  {
   "cell_type": "code",
   "execution_count": 11,
   "metadata": {
    "collapsed": false
   },
   "outputs": [
    {
     "data": {
      "text/plain": [
       "array([ 0.21205316,  0.23874658,  0.01015813,  0.00520434,  0.00148331,\n",
       "        0.11857278,  0.4137817 ])"
      ]
     },
     "execution_count": 11,
     "metadata": {},
     "output_type": "execute_result"
    }
   ],
   "source": [
    "rf.feature_importances_"
   ]
  },
  {
   "cell_type": "code",
   "execution_count": 16,
   "metadata": {
    "collapsed": false
   },
   "outputs": [
    {
     "name": "stdout",
     "output_type": "stream",
     "text": [
      "Accuracy 0.714565334773\n",
      "Cross Val Score [ 0.70210073  0.66707163  0.72485192]\n",
      "Confusion Matrix \n",
      "[[2659 2189   37]\n",
      " [1406 7915   50]\n",
      " [ 162  385   13]]\n",
      "Classification Report \n",
      "             precision    recall  f1-score   support\n",
      "\n",
      "        BAD       0.63      0.54      0.58      4885\n",
      "       GOOD       0.75      0.84      0.80      9371\n",
      "    UNKNOWN       0.13      0.02      0.04       560\n",
      "\n",
      "avg / total       0.69      0.71      0.70     14816\n",
      "\n"
     ]
    }
   ],
   "source": [
    "from sklearn.ensemble import AdaBoostClassifier\n",
    "\n",
    "ada = AdaBoostClassifier(rf)\n",
    "run_model(ada)"
   ]
  },
  {
   "cell_type": "code",
   "execution_count": 17,
   "metadata": {
    "collapsed": false
   },
   "outputs": [
    {
     "name": "stdout",
     "output_type": "stream",
     "text": [
      "Accuracy 0.728334233261\n",
      "Cross Val Score [ 0.72877752  0.68230828  0.74925328]\n",
      "Confusion Matrix \n",
      "[[2754 2130    1]\n",
      " [1334 8036    1]\n",
      " [ 163  396    1]]\n",
      "Classification Report \n",
      "             precision    recall  f1-score   support\n",
      "\n",
      "        BAD       0.65      0.56      0.60      4885\n",
      "       GOOD       0.76      0.86      0.81      9371\n",
      "    UNKNOWN       0.33      0.00      0.00       560\n",
      "\n",
      "avg / total       0.71      0.73      0.71     14816\n",
      "\n"
     ]
    }
   ],
   "source": [
    "from sklearn.ensemble import GradientBoostingClassifier\n",
    "\n",
    "gbc = GradientBoostingClassifier()\n",
    "run_model(gbc)"
   ]
  },
  {
   "cell_type": "code",
   "execution_count": 18,
   "metadata": {
    "collapsed": false
   },
   "outputs": [
    {
     "name": "stdout",
     "output_type": "stream",
     "text": [
      "Accuracy 0.711528077754\n",
      "Cross Val Score [ 0.7027588   0.66281954  0.72996507]\n",
      "Confusion Matrix \n",
      "[[2721 2137   27]\n",
      " [1518 7812   41]\n",
      " [ 176  375    9]]\n",
      "Classification Report \n",
      "             precision    recall  f1-score   support\n",
      "\n",
      "        BAD       0.62      0.56      0.59      4885\n",
      "       GOOD       0.76      0.83      0.79      9371\n",
      "    UNKNOWN       0.12      0.02      0.03       560\n",
      "\n",
      "avg / total       0.69      0.71      0.70     14816\n",
      "\n"
     ]
    }
   ],
   "source": [
    "from sklearn.ensemble import ExtraTreesClassifier\n",
    "\n",
    "ext = ExtraTreesClassifier()\n",
    "run_model(ext)"
   ]
  },
  {
   "cell_type": "code",
   "execution_count": null,
   "metadata": {
    "collapsed": true
   },
   "outputs": [],
   "source": []
  }
 ],
 "metadata": {
  "anaconda-cloud": {},
  "kernelspec": {
   "display_name": "Python [Root]",
   "language": "python",
   "name": "Python [Root]"
  },
  "language_info": {
   "codemirror_mode": {
    "name": "ipython",
    "version": 2
   },
   "file_extension": ".py",
   "mimetype": "text/x-python",
   "name": "python",
   "nbconvert_exporter": "python",
   "pygments_lexer": "ipython2",
   "version": "2.7.12"
  }
 },
 "nbformat": 4,
 "nbformat_minor": 0
}
